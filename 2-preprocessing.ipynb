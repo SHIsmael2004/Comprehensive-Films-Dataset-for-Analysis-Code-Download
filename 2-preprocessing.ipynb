{
 "cells": [
  {
   "cell_type": "code",
   "execution_count": 2,
   "id": "ae90d417",
   "metadata": {},
   "outputs": [],
   "source": [
    "import torch\n",
    "import torch.nn as nn\n",
    "import torch.optim as optim\n",
    "import numpy as np\n",
    "import pandas as pd"
   ]
  },
  {
   "cell_type": "code",
   "execution_count": null,
   "id": "6b6a5886",
   "metadata": {},
   "outputs": [],
   "source": [
    "# Load the cleaned dataset\n",
    "data = pd.read_csv(\"cleaned_movies_dataset.csv\")"
   ]
  },
  {
   "cell_type": "markdown",
   "id": "ff9fbfcb",
   "metadata": {},
   "source": [
    "# Encoding"
   ]
  },
  {
   "cell_type": "markdown",
   "id": "9a7470fa",
   "metadata": {},
   "source": [
    "this part own is to split our dataset to trainset, testset and valset and do encocoding in categorical columns using OrdinalEncoder and standardisation\n",
    "of numerical columns"
   ]
  },
  {
   "cell_type": "code",
   "execution_count": 4,
   "id": "d163d6be",
   "metadata": {},
   "outputs": [],
   "source": [
    "# split data into training and testing sets\n",
    "from sklearn.model_selection import train_test_split\n",
    "\n",
    "target = data['US_BoxOfficeUSD']\n",
    "X = data.drop(['US_BoxOfficeUSD'], axis=1)\n",
    "\n",
    "X_train, X_test, y_train, y_test = train_test_split(X, target, test_size=0.2, random_state=42)\n",
    "X_train, X_val, y_train, y_val = train_test_split(X_train, y_train, test_size=0.2, random_state=42)"
   ]
  },
  {
   "cell_type": "code",
   "execution_count": 5,
   "id": "8838ebf9",
   "metadata": {},
   "outputs": [],
   "source": [
    "# Pipeline for categorical encoding columns\n",
    "from sklearn.pipeline import Pipeline\n",
    "from sklearn.preprocessing import OrdinalEncoder, RobustScaler\n",
    "from sklearn.compose import ColumnTransformer\n",
    "\n",
    "cat_cols=data.select_dtypes(exclude=['number']).columns\n",
    "target='US_BoxOfficeUSD'\n",
    "num_cols=data.drop(target,axis=1).select_dtypes(include=['number']).columns\n",
    "\n",
    "cat_pipeline=Pipeline([\n",
    "    ('ordinal',OrdinalEncoder()),\n",
    "    # ('scaler',RobustScaler())\n",
    "\n",
    "])\n",
    "num_pipeline=Pipeline([\n",
    "    ('scaler',RobustScaler())\n",
    "])\n",
    "trans=ColumnTransformer([\n",
    "    ('cat',cat_pipeline,cat_cols),\n",
    "    ('num',num_pipeline,num_cols)\n",
    "], remainder='passthrough')\n",
    "\n"
   ]
  },
  {
   "cell_type": "code",
   "execution_count": 7,
   "id": "b282fb0b",
   "metadata": {},
   "outputs": [],
   "source": [
    "train_data_preprocess=pd.DataFrame(trans.fit_transform(X_train),columns=[f'{col.replace(\"cat__\",\"\")}' if col.startswith('cat') else f'{col.replace(\"num__\",\"\")}' for col in trans.get_feature_names_out() ])\n",
    "\n",
    "data_test_preprocess=pd.DataFrame(trans.transform(X_test),columns=[f'{col.replace(\"cat__\",\"\")}' if col.startswith('cat') else f'{col.replace(\"num__\",\"\")}' for col in trans.get_feature_names_out() ])\n",
    "\n",
    "data_val_preprocess=pd.DataFrame(trans.transform(X_val),columns=[f'{col.replace(\"cat__\",\"\")}' if col.startswith('cat') else f'{col.replace(\"num__\",\"\")}' for col in trans.get_feature_names_out() ])\n"
   ]
  },
  {
   "cell_type": "code",
   "execution_count": 8,
   "id": "fd56a268",
   "metadata": {},
   "outputs": [
    {
     "data": {
      "text/html": [
       "<div>\n",
       "<style scoped>\n",
       "    .dataframe tbody tr th:only-of-type {\n",
       "        vertical-align: middle;\n",
       "    }\n",
       "\n",
       "    .dataframe tbody tr th {\n",
       "        vertical-align: top;\n",
       "    }\n",
       "\n",
       "    .dataframe thead th {\n",
       "        text-align: right;\n",
       "    }\n",
       "</style>\n",
       "<table border=\"1\" class=\"dataframe\">\n",
       "  <thead>\n",
       "    <tr style=\"text-align: right;\">\n",
       "      <th></th>\n",
       "      <th>Title</th>\n",
       "      <th>Genre</th>\n",
       "      <th>Country</th>\n",
       "      <th>Director</th>\n",
       "      <th>LeadActor</th>\n",
       "      <th>MovieID</th>\n",
       "      <th>ReleaseYear</th>\n",
       "      <th>BudgetUSD</th>\n",
       "      <th>Global_BoxOfficeUSD</th>\n",
       "      <th>Opening_Day_SalesUSD</th>\n",
       "      <th>One_Week_SalesUSD</th>\n",
       "      <th>IMDbRating</th>\n",
       "      <th>RottenTomatoesScore</th>\n",
       "      <th>NumVotesIMDb</th>\n",
       "      <th>NumVotesRT</th>\n",
       "      <th>ReleaseMonth</th>\n",
       "      <th>ReleaseDay</th>\n",
       "    </tr>\n",
       "  </thead>\n",
       "  <tbody>\n",
       "    <tr>\n",
       "      <th>0</th>\n",
       "      <td>5248.0</td>\n",
       "      <td>3.0</td>\n",
       "      <td>7.0</td>\n",
       "      <td>62.0</td>\n",
       "      <td>111.0</td>\n",
       "      <td>0.734604</td>\n",
       "      <td>-1.200000</td>\n",
       "      <td>-0.335590</td>\n",
       "      <td>-0.135442</td>\n",
       "      <td>-0.339818</td>\n",
       "      <td>-0.266266</td>\n",
       "      <td>-0.15</td>\n",
       "      <td>0.458333</td>\n",
       "      <td>0.348719</td>\n",
       "      <td>-0.130311</td>\n",
       "      <td>-0.833333</td>\n",
       "      <td>-0.266667</td>\n",
       "    </tr>\n",
       "    <tr>\n",
       "      <th>1</th>\n",
       "      <td>6825.0</td>\n",
       "      <td>3.0</td>\n",
       "      <td>9.0</td>\n",
       "      <td>137.0</td>\n",
       "      <td>236.0</td>\n",
       "      <td>0.652838</td>\n",
       "      <td>-0.133333</td>\n",
       "      <td>0.269954</td>\n",
       "      <td>0.399211</td>\n",
       "      <td>0.645732</td>\n",
       "      <td>0.417938</td>\n",
       "      <td>0.45</td>\n",
       "      <td>1.291667</td>\n",
       "      <td>-0.610751</td>\n",
       "      <td>0.519099</td>\n",
       "      <td>-0.500000</td>\n",
       "      <td>-0.200000</td>\n",
       "    </tr>\n",
       "    <tr>\n",
       "      <th>2</th>\n",
       "      <td>9321.0</td>\n",
       "      <td>4.0</td>\n",
       "      <td>9.0</td>\n",
       "      <td>91.0</td>\n",
       "      <td>297.0</td>\n",
       "      <td>-0.085915</td>\n",
       "      <td>0.500000</td>\n",
       "      <td>1.002090</td>\n",
       "      <td>0.957163</td>\n",
       "      <td>1.075647</td>\n",
       "      <td>0.912283</td>\n",
       "      <td>0.75</td>\n",
       "      <td>0.875000</td>\n",
       "      <td>1.233711</td>\n",
       "      <td>0.707159</td>\n",
       "      <td>-0.166667</td>\n",
       "      <td>0.466667</td>\n",
       "    </tr>\n",
       "    <tr>\n",
       "      <th>3</th>\n",
       "      <td>6115.0</td>\n",
       "      <td>3.0</td>\n",
       "      <td>9.0</td>\n",
       "      <td>35.0</td>\n",
       "      <td>287.0</td>\n",
       "      <td>0.492381</td>\n",
       "      <td>-0.366667</td>\n",
       "      <td>0.415877</td>\n",
       "      <td>0.706431</td>\n",
       "      <td>0.648292</td>\n",
       "      <td>0.772801</td>\n",
       "      <td>-0.65</td>\n",
       "      <td>-0.458333</td>\n",
       "      <td>1.328757</td>\n",
       "      <td>-0.093013</td>\n",
       "      <td>-0.166667</td>\n",
       "      <td>-0.200000</td>\n",
       "    </tr>\n",
       "    <tr>\n",
       "      <th>4</th>\n",
       "      <td>4578.0</td>\n",
       "      <td>0.0</td>\n",
       "      <td>9.0</td>\n",
       "      <td>39.0</td>\n",
       "      <td>97.0</td>\n",
       "      <td>0.466072</td>\n",
       "      <td>0.466667</td>\n",
       "      <td>-0.749289</td>\n",
       "      <td>-0.383401</td>\n",
       "      <td>-0.677451</td>\n",
       "      <td>-0.511715</td>\n",
       "      <td>-0.25</td>\n",
       "      <td>-0.541667</td>\n",
       "      <td>0.097394</td>\n",
       "      <td>-0.193512</td>\n",
       "      <td>0.333333</td>\n",
       "      <td>-0.800000</td>\n",
       "    </tr>\n",
       "  </tbody>\n",
       "</table>\n",
       "</div>"
      ],
      "text/plain": [
       "    Title  Genre  Country  Director  LeadActor   MovieID  ReleaseYear  \\\n",
       "0  5248.0    3.0      7.0      62.0      111.0  0.734604    -1.200000   \n",
       "1  6825.0    3.0      9.0     137.0      236.0  0.652838    -0.133333   \n",
       "2  9321.0    4.0      9.0      91.0      297.0 -0.085915     0.500000   \n",
       "3  6115.0    3.0      9.0      35.0      287.0  0.492381    -0.366667   \n",
       "4  4578.0    0.0      9.0      39.0       97.0  0.466072     0.466667   \n",
       "\n",
       "   BudgetUSD  Global_BoxOfficeUSD  Opening_Day_SalesUSD  One_Week_SalesUSD  \\\n",
       "0  -0.335590            -0.135442             -0.339818          -0.266266   \n",
       "1   0.269954             0.399211              0.645732           0.417938   \n",
       "2   1.002090             0.957163              1.075647           0.912283   \n",
       "3   0.415877             0.706431              0.648292           0.772801   \n",
       "4  -0.749289            -0.383401             -0.677451          -0.511715   \n",
       "\n",
       "   IMDbRating  RottenTomatoesScore  NumVotesIMDb  NumVotesRT  ReleaseMonth  \\\n",
       "0       -0.15             0.458333      0.348719   -0.130311     -0.833333   \n",
       "1        0.45             1.291667     -0.610751    0.519099     -0.500000   \n",
       "2        0.75             0.875000      1.233711    0.707159     -0.166667   \n",
       "3       -0.65            -0.458333      1.328757   -0.093013     -0.166667   \n",
       "4       -0.25            -0.541667      0.097394   -0.193512      0.333333   \n",
       "\n",
       "   ReleaseDay  \n",
       "0   -0.266667  \n",
       "1   -0.200000  \n",
       "2    0.466667  \n",
       "3   -0.200000  \n",
       "4   -0.800000  "
      ]
     },
     "execution_count": 8,
     "metadata": {},
     "output_type": "execute_result"
    }
   ],
   "source": [
    "data_val_preprocess.head()"
   ]
  },
  {
   "cell_type": "code",
   "execution_count": 9,
   "id": "24354c1c",
   "metadata": {},
   "outputs": [
    {
     "data": {
      "text/plain": [
       "((160000, 17), (160000,))"
      ]
     },
     "execution_count": 9,
     "metadata": {},
     "output_type": "execute_result"
    }
   ],
   "source": [
    "data_val_preprocess.shape, y_val.shape"
   ]
  },
  {
   "cell_type": "markdown",
   "id": "002361c4",
   "metadata": {},
   "source": [
    "# Embedding"
   ]
  },
  {
   "cell_type": "markdown",
   "id": "1827f502",
   "metadata": {},
   "source": [
    "Like the column title, director and lead actor was long text ordinal and one hot encoding are not good then we pass the ordinal output to pytorch embedding for more relation(using vectors) than exemple: 1,2,3"
   ]
  },
  {
   "cell_type": "code",
   "execution_count": null,
   "id": "bc1c21c0",
   "metadata": {},
   "outputs": [],
   "source": [
    "# spliting features(Title_data, Director_data, LeadActor_data, num for embeddings) and target to tensors\n",
    "\n",
    "# train set\n",
    "train_Title_data = torch.tensor(train_data_preprocess['Title'].values,dtype=torch.long)  # titres encodés\n",
    "train_Director_data  = torch.tensor(train_data_preprocess['Director'].values,dtype=torch.long)  # réalisateurs encodés\n",
    "train_LeadActor_data  = torch.tensor(train_data_preprocess['LeadActor'].values,dtype=torch.long)  # acteurs principaux encodés\n",
    "train_num= torch.tensor(train_data_preprocess.drop(['Title', 'Director', 'LeadActor',], axis=1).values, dtype=torch.float)  # autres features numériques\n",
    "train_target=torch.tensor(y_train.values, dtype=torch.float)\n",
    "\n",
    "# test set\n",
    "test_Title_data = torch.tensor(data_test_preprocess['Title'].values,dtype=torch.long)  # titres encodés\n",
    "test_Director_data  = torch.tensor(data_test_preprocess['Director'].values,dtype=torch.long)  # réalisateurs encodés\n",
    "test_LeadActor_data  = torch.tensor(data_test_preprocess['LeadActor'].values,dtype=torch.long)  # acteurs principaux encodés\n",
    "test_num= torch.tensor(data_test_preprocess.drop(['Title', 'Director', 'LeadActor'], axis=1).values, dtype=torch.float)  # autres features numériques\n",
    "test_target=torch.tensor(y_test.values, dtype=torch.float)\n",
    "\n",
    "# val set\n",
    "val_Title_data = torch.tensor(data_val_preprocess['Title'].values,dtype=torch.long)  # titres encodés\n",
    "val_Director_data  = torch.tensor(data_val_preprocess['Director'].values,dtype=torch.long)  # réalisateurs encodés\n",
    "val_LeadActor_data  = torch.tensor(data_val_preprocess['LeadActor'].values,dtype=torch.long)  # acteurs principaux encodés\n",
    "val_num= torch.tensor(data_val_preprocess.drop(['Title', 'Director', 'LeadActor'], axis=1).values, dtype=torch.float)  # autres features numériques\n",
    "val_target=torch.tensor(y_val.values, dtype=torch.float)\n"
   ]
  },
  {
   "cell_type": "code",
   "execution_count": null,
   "id": "65f399a3",
   "metadata": {},
   "outputs": [],
   "source": [
    " # embeddings for Title_data, Director_data, LeadActor_data\n",
    "emb_dim=10\n",
    "\n",
    "# For training set\n",
    "train_title_emb = nn.Embedding(num_embeddings=int(train_Title_data.max().item()) + 1, embedding_dim=emb_dim)\n",
    "train_director_emb = nn.Embedding(num_embeddings=int(train_Director_data.max().item()) + 1, embedding_dim=emb_dim)\n",
    "train_leadactor_emb = nn.Embedding(num_embeddings=int(train_LeadActor_data.max().item()) + 1, embedding_dim=emb_dim)\n",
    "\n",
    "# For validation and test sets\n",
    "val_title_emb = nn.Embedding(num_embeddings=int(val_Title_data.max().item()) + 1, embedding_dim=emb_dim)\n",
    "val_director_emb = nn.Embedding(num_embeddings=int(val_Director_data.max().item()) + 1, embedding_dim=emb_dim)\n",
    "val_leadactor_emb = nn.Embedding(num_embeddings=int(val_LeadActor_data.max().item()) + 1, embedding_dim=emb_dim)\n",
    "\n",
    "# For test set\n",
    "test_title_emb = nn.Embedding(num_embeddings=int(test_Title_data.max().item()) + 1, embedding_dim=emb_dim)\n",
    "test_director_emb = nn.Embedding(num_embeddings=int(test_Director_data.max().item()) + 1, embedding_dim=emb_dim)\n",
    "test_leadactor_emb = nn.Embedding(num_embeddings=int(test_LeadActor_data.max().item()) + 1, embedding_dim=emb_dim)\n",
    "\n",
    "\n"
   ]
  },
  {
   "cell_type": "code",
   "execution_count": null,
   "id": "69a31319",
   "metadata": {},
   "outputs": [],
   "source": [
    "# Getting the embeddings\n",
    "\n",
    "# For training set\n",
    "train_title_vec = train_title_emb(train_Title_data)\n",
    "train_director_vec = train_director_emb(train_Director_data)\n",
    "train_leadactor_vec = train_leadactor_emb(train_LeadActor_data)\n",
    "\n",
    "# For validation and test sets\n",
    "val_title_vec = val_title_emb(val_Title_data)\n",
    "val_director_vec = val_director_emb(val_Director_data)\n",
    "val_leadactor_vec = val_leadactor_emb(val_LeadActor_data)\n",
    "\n",
    "# For test set\n",
    "test_title_vec = test_title_emb(test_Title_data)\n",
    "test_director_vec = test_director_emb(test_Director_data)\n",
    "test_leadactor_vec = test_leadactor_emb(test_LeadActor_data)"
   ]
  },
  {
   "cell_type": "markdown",
   "id": "4f843e9a",
   "metadata": {},
   "source": [
    "# Construction and saving"
   ]
  },
  {
   "cell_type": "markdown",
   "id": "af37baf3",
   "metadata": {},
   "source": [
    "we concat Title, Director, LeadActor and other columns together(emb_dim=10 for the three columns then 10*3=30 and the other 13 columns then 43 total)"
   ]
  },
  {
   "cell_type": "code",
   "execution_count": null,
   "id": "84221e10",
   "metadata": {},
   "outputs": [],
   "source": [
    "# Final feature set\n",
    "X_train = torch.cat([train_num, train_title_vec, train_director_vec, train_leadactor_vec], dim=1)\n",
    "X_val = torch.cat([val_num, val_title_vec, val_director_vec, val_leadactor_vec], dim=1)\n",
    "X_test = torch.cat([test_num, test_title_vec, test_director_vec, test_leadactor_vec], dim=1)"
   ]
  },
  {
   "cell_type": "code",
   "execution_count": null,
   "id": "38f5e89a",
   "metadata": {},
   "outputs": [
    {
     "data": {
      "text/plain": [
       "(torch.Size([999999, 43]), torch.Size([999999]))"
      ]
     },
     "execution_count": 30,
     "metadata": {},
     "output_type": "execute_result"
    }
   ],
   "source": [
    "# show shapes\n",
    "X_train.shape,train_target.shape"
   ]
  },
  {
   "cell_type": "code",
   "execution_count": 13,
   "id": "1f0406ae",
   "metadata": {},
   "outputs": [
    {
     "data": {
      "text/plain": [
       "tensor([[ 3.0000,  6.0000, -0.3220,  ..., -0.1171,  0.7080, -0.3780],\n",
       "        [ 1.0000,  9.0000, -0.8028,  ...,  1.7534, -0.6855, -0.0862],\n",
       "        [ 4.0000,  9.0000, -0.8672,  ...,  0.4404,  1.2048,  2.1722],\n",
       "        ...,\n",
       "        [ 0.0000,  9.0000, -0.5440,  ...,  0.4033,  1.2792, -1.2846],\n",
       "        [ 6.0000,  9.0000, -0.7541,  ...,  1.6493, -0.5843, -0.1758],\n",
       "        [ 1.0000,  9.0000, -0.5235,  ..., -0.4227, -0.3370, -0.5529]],\n",
       "       grad_fn=<CatBackward0>)"
      ]
     },
     "execution_count": 13,
     "metadata": {},
     "output_type": "execute_result"
    }
   ],
   "source": [
    "X_train"
   ]
  },
  {
   "cell_type": "code",
   "execution_count": 14,
   "id": "9878b37d",
   "metadata": {},
   "outputs": [],
   "source": [
    "# save my tensor data\n",
    "\n",
    "torch.save(X_train,'train_inputs')\n",
    "torch.save(train_target,'train_outputs')\n",
    "\n",
    "torch.save(X_val,'val_inputs')\n",
    "torch.save(val_target,'val_outputs')\n",
    "\n",
    "torch.save(X_test,'test_inputs')\n",
    "torch.save(test_target,'test_outputs')"
   ]
  },
  {
   "cell_type": "code",
   "execution_count": null,
   "id": "6fbd731b",
   "metadata": {},
   "outputs": [],
   "source": []
  }
 ],
 "metadata": {
  "kernelspec": {
   "display_name": "d2l",
   "language": "python",
   "name": "python3"
  },
  "language_info": {
   "codemirror_mode": {
    "name": "ipython",
    "version": 3
   },
   "file_extension": ".py",
   "mimetype": "text/x-python",
   "name": "python",
   "nbconvert_exporter": "python",
   "pygments_lexer": "ipython3",
   "version": "3.12.9"
  }
 },
 "nbformat": 4,
 "nbformat_minor": 5
}
